{
  "nbformat": 4,
  "nbformat_minor": 0,
  "metadata": {
    "colab": {
      "name": "Problem Set 2.ipynb",
      "provenance": [],
      "authorship_tag": "ABX9TyMeH/XkGixGVeq7fTOTaGcy"
    },
    "kernelspec": {
      "name": "python3",
      "display_name": "Python 3"
    },
    "language_info": {
      "name": "python"
    }
  },
  "cells": [
    {
      "cell_type": "markdown",
      "source": [
        "**Answer 1**"
      ],
      "metadata": {
        "id": "WZe9EqBtlUaR"
      }
    },
    {
      "cell_type": "code",
      "execution_count": null,
      "metadata": {
        "colab": {
          "base_uri": "https://localhost:8080/"
        },
        "id": "R8gn5yCnlPG2",
        "outputId": "0d408d0f-5cf1-4276-8418-f07947e67fdc"
      },
      "outputs": [
        {
          "output_type": "stream",
          "name": "stdout",
          "text": [
            "6\n"
          ]
        }
      ],
      "source": [
        "a = 0\n",
        "\n",
        "def b():\n",
        "  global a\n",
        "  a = c(a)\n",
        "\n",
        "def c(a):\n",
        "  return a + 2\n",
        "\n",
        "b()  # This line call function b and in b function it calls function c which increment value of global variable a by 2 and store it in a. Thus a = 2\n",
        "b()  # This line again call function b and in b function it calls function c which increment value of global variable a by 2 and store it in a. Thus a = 4\n",
        "b()  # This line again call function b and in b function it calls function c which increment value of global variable a by 2 and store it in a. Thus a = 6\n",
        "print(a) # this will print 6 on the console because global variable scope is in whole program not in particular block"
      ]
    },
    {
      "cell_type": "markdown",
      "source": [
        "**Answer 2**"
      ],
      "metadata": {
        "id": "jAG8V0S7m-mw"
      }
    },
    {
      "cell_type": "code",
      "source": [
        "def file_length(file_name):\n",
        "    try:\n",
        "      file = open(file_name)\n",
        "      contents = file.read()\n",
        "      file.close()\n",
        "      print(len(contents))\n",
        "    except:\n",
        "      print('File ' + file_name + ' not found.')\n",
        "   \n",
        "\n",
        "file_length('sample.txt')"
      ],
      "metadata": {
        "colab": {
          "base_uri": "https://localhost:8080/"
        },
        "id": "70bM0tb-nAvS",
        "outputId": "166a72c3-0fd6-4ea6-936c-425eb2bf1547"
      },
      "execution_count": null,
      "outputs": [
        {
          "output_type": "stream",
          "name": "stdout",
          "text": [
            "File sample.txt not found.\n"
          ]
        }
      ]
    },
    {
      "cell_type": "markdown",
      "source": [
        "**Answer 3**"
      ],
      "metadata": {
        "id": "QBwoAOxmrObv"
      }
    },
    {
      "cell_type": "code",
      "source": [
        "class Marsupial:\n",
        "  values = []\n",
        "\n",
        "  def put_in_pouch(self, value):\n",
        "    self.values.append(value)\n",
        "\n",
        "  def pouch_contents(self):\n",
        "    print(self.values)\n",
        "\n",
        "class Kangaroo(Marsupial):\n",
        "  x = 0\n",
        "  y = 0\n",
        "\n",
        "  def __init__(self, x, y):\n",
        "    self.x = x\n",
        "    self.y = y \n",
        "\n",
        "  def jump(self, dx, dy):\n",
        "    self.x += dx\n",
        "    self.y += dy   \n",
        "\n",
        "  def __str__(self):\n",
        "      return 'I am a Kangaroo located at coordinates ('+ str(self.x) +','+ str(self.y) +')'\n",
        "\n",
        "k = Kangaroo(0, 0)\n",
        "print(k)\n",
        "k.put_in_pouch('doll')\n",
        "k.put_in_pouch('firetruck')\n",
        "k.put_in_pouch('kitten')\n",
        "k.pouch_contents()\n",
        "k.jump(1, 0)\n",
        "k.jump(1, 0)\n",
        "k.jump(1, 0)\n",
        "print(k)"
      ],
      "metadata": {
        "colab": {
          "base_uri": "https://localhost:8080/"
        },
        "id": "pOKLXtJOrSWD",
        "outputId": "5ffb3275-e713-4dfb-d532-4bc336b56f7c"
      },
      "execution_count": null,
      "outputs": [
        {
          "output_type": "stream",
          "name": "stdout",
          "text": [
            "I am a Kangaroo located at coordinates (0,0)\n",
            "['doll', 'firetruck', 'kitten']\n",
            "I am a Kangaroo located at coordinates (3,0)\n"
          ]
        }
      ]
    },
    {
      "cell_type": "markdown",
      "source": [
        "**Answer 4**"
      ],
      "metadata": {
        "id": "lWbmG4pkwOPO"
      }
    },
    {
      "cell_type": "code",
      "source": [
        "s = 0\n",
        "\n",
        "def collatz(n):\n",
        "   global s\n",
        "   print(n)\n",
        "   s += 1\n",
        "   if n==1:\n",
        "     return \n",
        "   if n % 2 == 0:\n",
        "     return collatz((n // 2))\n",
        "   if n % 2 == 1:\n",
        "     return collatz(((n * 3) + 1))\n",
        "\n",
        "collatz(10)"
      ],
      "metadata": {
        "colab": {
          "base_uri": "https://localhost:8080/"
        },
        "id": "NqF1cEUUwQh8",
        "outputId": "f1e9c307-f954-43f8-e411-d1e0c51263ea"
      },
      "execution_count": null,
      "outputs": [
        {
          "output_type": "stream",
          "name": "stdout",
          "text": [
            "10\n",
            "5\n",
            "16\n",
            "8\n",
            "4\n",
            "2\n",
            "1\n"
          ]
        }
      ]
    },
    {
      "cell_type": "markdown",
      "source": [
        "**Answer 5**"
      ],
      "metadata": {
        "id": "YO-9Xe-r0b8I"
      }
    },
    {
      "cell_type": "code",
      "source": [
        "def binary(n):\n",
        "   if n < 2:\n",
        "    print(int(n), end = '')\n",
        "   else:\n",
        "     binary(n / 2)\n",
        "     print(int(n % 2), end = '')\n",
        "\n",
        "binary(9)"
      ],
      "metadata": {
        "colab": {
          "base_uri": "https://localhost:8080/"
        },
        "id": "SuBub-VT0eb9",
        "outputId": "761f1336-61fe-46a8-8744-bd303865fec0"
      },
      "execution_count": null,
      "outputs": [
        {
          "output_type": "stream",
          "name": "stdout",
          "text": [
            "1001"
          ]
        }
      ]
    },
    {
      "cell_type": "markdown",
      "source": [
        "**Answer 6**"
      ],
      "metadata": {
        "id": "9RtPVjVO1qjq"
      }
    },
    {
      "cell_type": "code",
      "source": [
        "from html.parser import HTMLParser\n",
        "\n",
        "class HeadingParser(HTMLParser):\n",
        "\n",
        "  def __init__(self):\n",
        "        HTMLParser.__init__(self)\n",
        "        self.inLink = False\n",
        "        self.dataArray = []\n",
        "        self.countLanguages = 0\n",
        "        self.lasttag = None\n",
        "        self.lastname = None\n",
        "        self.lastvalue = None\n",
        "\n",
        "  def handle_starttag(self, tag, attrs):\n",
        "        self.inLink = False\n",
        "        if tag == 'h1' or tag == 'h2' or tag == 'h3' or tag == 'h4' or tag == 'h5' or tag == 'h6':\n",
        "           self.countLanguages += 1\n",
        "           self.inLink = True\n",
        "           self.lasttag = tag\n",
        "\n",
        "  def handle_endtag(self, tag):\n",
        "        if tag == \"h1\" or tag == \"h2\" or tag == \"h3\" or tag == \"h4\" or tag == \"h5\" or tag == \"h6\":\n",
        "            self.inlink = False\n",
        "\n",
        "  def handle_data(self, data):\n",
        "        if self.lasttag == 'h1' or self.lasttag == 'h2' or self.lasttag == 'h3' or self.lasttag == 'h4' or self.lasttag == 'h5' or self.lasttag == 'h6' and self.inLink and data.strip():\n",
        "            print(data, end = \"\")\n",
        "\n",
        "\n",
        "\n",
        "infile = open('w3c.html')\n",
        "content = infile.read()\n",
        "infile.close()\n",
        "hp = HeadingParser()\n",
        "hp.feed(content) "
      ],
      "metadata": {
        "colab": {
          "base_uri": "https://localhost:8080/"
        },
        "id": "NFMvwI0o1tvz",
        "outputId": "a4ddc83e-6a43-4d93-d56e-d220629cc5f3"
      },
      "execution_count": 42,
      "outputs": [
        {
          "output_type": "stream",
          "name": "stdout",
          "text": [
            "W3C Mission\n",
            "\tPrinciples\n",
            " \n",
            "\n",
            "\n",
            "\n"
          ]
        }
      ]
    },
    {
      "cell_type": "markdown",
      "source": [
        "**Answer 7**"
      ],
      "metadata": {
        "id": "NP7MC_148WCL"
      }
    },
    {
      "cell_type": "code",
      "source": [
        "from urllib.request import urljoin\n",
        "from bs4 import BeautifulSoup\n",
        "import requests\n",
        "from urllib.request import urlparse\n",
        "\n",
        "def webdir(url, depth, indent):\n",
        "\ttemp_url = set()\n",
        "\tcurrenturl_domain = urlparse(url).netloc\n",
        "\n",
        "\tbeautifulsoup_object = BeautifulSoup(\n",
        "\t\trequests.get(url).content, \"lxml\")\n",
        "\n",
        "\tfor an in beautifulsoup_object.findAll(\"a\"):\n",
        "\t\thref = an.attrs.get(\"href\")\n",
        "\t\tif(href != \"\" or href != None):\n",
        "\t\t\thref = urljoin(url, href)\n",
        "\t\t\thref_parsed = urlparse(href)\n",
        "\t\t\thref = href_parsed.scheme\n",
        "\t\t\thref += \"://\"\n",
        "\t\t\thref += href_parsed.netloc\n",
        "\t\t\thref += href_parsed.path\n",
        "\t\t\tfinalparsed_href = urlparse(href)\n",
        "\t\t\tis_valid = bool(finalparsed_href.scheme) and bool(\n",
        "\t\t\t\tfinalparsed_href.netloc)\n",
        "\t\t\tif is_valid:\n",
        "\t\t\t\tif currenturl_domain not in href and href not in link_ex:\n",
        "\t\t\t\t\tprint(href)\n",
        "\t\t\t\t\tlink_ex.add(href)\n",
        "\t\t\t\tif currenturl_domain in href and href not in link_in:\n",
        "\t\t\t\t\tprint(href)\n",
        "\t\t\t\t\tlink_in.add(href)\n",
        "\t\t\t\t\ttemp_url.add(href)\n",
        "\treturn temp_url\n",
        "\n",
        "\n",
        "link_in = set()\n",
        "url = \"http://reed.cs.depaul.edu/lperkovic/csc242/test1.html\"\n",
        "depth = 1\n",
        "link_ex = set()\n",
        "\n",
        "if(depth == 0):\n",
        "\tprint(url)\n",
        "\n",
        "elif(depth == 1):\n",
        "\twebdir(url, depth, 0)\n",
        "\n",
        "else:\n",
        "\tqueue = []\n",
        "\tqueue.append(url)\n",
        "\tfor j in range(depth):\n",
        "\t\tfor count in range(len(queue)):\n",
        "\t\t\turll = queue.pop(0)\n",
        "\t\t\turls = webdir(urll, depth, 0)\n",
        "\t\t\tfor i in urls:\n",
        "\t\t\t\tqueue.append(i)"
      ],
      "metadata": {
        "id": "I2HX27mt8Zyi"
      },
      "execution_count": 39,
      "outputs": []
    },
    {
      "cell_type": "markdown",
      "source": [
        "**Answer 8**"
      ],
      "metadata": {
        "id": "XNlkrqwZ9KXc"
      }
    },
    {
      "cell_type": "code",
      "source": [
        "import sqlite3\n",
        "\n",
        "conn = sqlite3.connect('test.db')\n",
        "\n",
        "conn.execute('''\n",
        "CREATE TABLE IF NOT EXISTS team_data(city text, \n",
        "                      country text, \n",
        "                      season integer, \n",
        "                      temperature integer,\n",
        "                      rainfall integer);''')\n",
        "\n",
        "conn.commit()\n",
        "\n",
        "mycursor = conn.cursor()\n",
        "\n",
        "conn.execute(\"INSERT INTO team_data VALUES('Mumbai', 'India', 'Winter', 24.8, 5.9);\")\n",
        "conn.execute(\"INSERT INTO team_data VALUES('Mumbai', 'India', 'Spring', 28.4, 16.2);\")\n",
        "conn.execute(\"INSERT INTO team_data VALUES('Mumbai', 'India', 'Summer', 27.9, 1549.4);\")\n",
        "conn.execute(\"INSERT INTO team_data VALUES('Mumbai', 'India', 'Fall', 27.6, 346.0);\")\n",
        "conn.execute(\"INSERT INTO team_data VALUES('London', 'United Kingdom', 'Winter', 4.2, 207.7);\")\n",
        "conn.execute(\"INSERT INTO team_data VALUES('London', 'United Kingdom', 'Spring', 8.3, 169.6 );\")\n",
        "conn.execute(\"INSERT INTO team_data VALUES('London', 'United Kingdom', 'Summer', 15.7, 157.0);\")\n",
        "conn.execute(\"INSERT INTO team_data VALUES('London', 'United Kingdom', 'Fall', 10.4, 218.5);\")\n",
        "conn.execute(\"INSERT INTO team_data VALUES('Cairo', 'Egypt', 'Winter', 13.6, 16.5);\")\n",
        "conn.execute(\"INSERT INTO team_data VALUES('Cairo', 'Egypt', 'Spring', 20.7, 6.5);\")\n",
        "conn.execute(\"INSERT INTO team_data VALUES('Cairo', 'Egypt', 'Summer', 27.7, 0.1);\")\n",
        "conn.execute(\"INSERT INTO team_data VALUES('Cairo', 'Egypt', 'Fall', 22.2, 4.5);\")\n",
        "\n",
        "mycursor.execute(\"SELECT temperature from team_data\")\n",
        "myresult = mycursor.fetchall()\n",
        "for x in myresult:\n",
        "  print(x, end=\"\")\n",
        "\n",
        "print()\n",
        "mycursor.execute(\"SELECT DISTINCT(city) from team_data\")\n",
        "myresult = mycursor.fetchall()\n",
        "for x in myresult:\n",
        "  print(x, end=\"\")\n",
        "\n",
        "print()\n",
        "mycursor.execute(\"SELECT * from team_data where country = 'India'\")\n",
        "myresult = mycursor.fetchall()\n",
        "for x in myresult:\n",
        "  print(x, end=\"\")\n",
        "\n",
        "\n",
        "print()\n",
        "mycursor.execute(\"SELECT * from team_data where season = 'Fall'\")\n",
        "myresult = mycursor.fetchall()\n",
        "for x in myresult:\n",
        "  print(x, end=\"\")\n",
        "\n",
        "print()\n",
        "mycursor.execute(\"SELECT city,country,season from team_data where rainfall BETWEEN 200 and 400\")\n",
        "myresult = mycursor.fetchall()\n",
        "for x in myresult:\n",
        "  print(x, end=\"\")\n",
        "\n",
        "print()\n",
        "mycursor.execute(\"SELECT city,country from team_data where (season = 'Fall' and temperature > 20) Order BY temperature ASC \")\n",
        "myresult = mycursor.fetchall()\n",
        "for x in myresult:\n",
        "  print(x, end=\"\")\n",
        "\n",
        "print()\n",
        "mycursor.execute(\"SELECT sum(rainfall) from team_data where city = 'Cairo'\")\n",
        "myresult = mycursor.fetchall()\n",
        "for x in myresult:\n",
        "  print(x, end=\"\")\n",
        "\n",
        "print()\n",
        "mycursor.execute(\"SELECT season, sum(rainfall) from team_data group by season\")\n",
        "myresult = mycursor.fetchall()\n",
        "for x in myresult:\n",
        "  print(x, end=\"\")\n",
        "\n",
        "conn.close()"
      ],
      "metadata": {
        "colab": {
          "base_uri": "https://localhost:8080/"
        },
        "id": "G4gK73Z29MOc",
        "outputId": "8c2cc5b0-47f4-4146-9994-f82b30f6ef64"
      },
      "execution_count": 18,
      "outputs": [
        {
          "output_type": "stream",
          "name": "stdout",
          "text": [
            "(24.8,)(28.4,)(27.9,)(27.6,)(4.2,)(8.3,)(15.7,)(10.4,)(13.6,)(20.7,)(27.7,)(22.2,)\n",
            "('Mumbai',)('London',)('Cairo',)\n",
            "('Mumbai', 'India', 'Winter', 24.8, 5.9)('Mumbai', 'India', 'Spring', 28.4, 16.2)('Mumbai', 'India', 'Summer', 27.9, 1549.4)('Mumbai', 'India', 'Fall', 27.6, 346)\n",
            "('Mumbai', 'India', 'Fall', 27.6, 346)('London', 'United Kingdom', 'Fall', 10.4, 218.5)('Cairo', 'Egypt', 'Fall', 22.2, 4.5)\n",
            "('Mumbai', 'India', 'Fall')('London', 'United Kingdom', 'Winter')('London', 'United Kingdom', 'Fall')\n",
            "('Cairo', 'Egypt')('Mumbai', 'India')\n",
            "(27.6,)\n",
            "('Fall', 569.0)('Spring', 192.29999999999998)('Summer', 1706.5)('Winter', 230.1)"
          ]
        }
      ]
    },
    {
      "cell_type": "markdown",
      "source": [
        "**Answer 9**"
      ],
      "metadata": {
        "id": "b9KeTOy79NIb"
      }
    },
    {
      "cell_type": "code",
      "source": [
        "words = ['The', 'quick', 'brown', 'fox', 'jumps', 'over', 'the', 'lazy', 'dog']\n",
        "print([x.upper() for x in words])\n",
        "print([x.lower() for x in words])\n",
        "print([len(x) for x in words])\n",
        "print([[x.upper(), x.lower(), len(x)]for x in words])\n",
        "print([x for x in words if len(x) >= 3])"
      ],
      "metadata": {
        "colab": {
          "base_uri": "https://localhost:8080/"
        },
        "id": "_fmiijSA9P-M",
        "outputId": "8ad5a3a6-7f97-43dd-ded6-e169677ae8e9"
      },
      "execution_count": 3,
      "outputs": [
        {
          "output_type": "stream",
          "name": "stdout",
          "text": [
            "['THE', 'QUICK', 'BROWN', 'FOX', 'JUMPS', 'OVER', 'THE', 'LAZY', 'DOG']\n",
            "['the', 'quick', 'brown', 'fox', 'jumps', 'over', 'the', 'lazy', 'dog']\n",
            "[3, 5, 5, 3, 5, 4, 3, 4, 3]\n",
            "[['THE', 'the', 3], ['QUICK', 'quick', 5], ['BROWN', 'brown', 5], ['FOX', 'fox', 3], ['JUMPS', 'jumps', 5], ['OVER', 'over', 4], ['THE', 'the', 3], ['LAZY', 'lazy', 4], ['DOG', 'dog', 3]]\n",
            "['The', 'quick', 'brown', 'fox', 'jumps', 'over', 'the', 'lazy', 'dog']\n"
          ]
        }
      ]
    }
  ]
}